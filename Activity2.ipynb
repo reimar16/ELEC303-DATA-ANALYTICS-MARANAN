{
 "cells": [
  {
   "cell_type": "code",
   "execution_count": 1,
   "id": "b09fcd59-3c33-4baf-a9f4-2294800f4c07",
   "metadata": {},
   "outputs": [],
   "source": [
    "import numpy as np\n",
    "import pandas as pd \n",
    "import warnings\n",
    "warnings.filterwarnings('ignore')"
   ]
  },
  {
   "cell_type": "markdown",
   "id": "391a33a3-7330-415e-81d6-7c713a863e29",
   "metadata": {},
   "source": [
    "<h1> UNITED KINGDOM ROAD ACCIDENT </h1>\n",
    "<hr>\n",
    "<h2> Maranan Reilh Rich P. </h2>\n",
    "<h2> BSIT-3A </h2>"
   ]
  },
  {
   "cell_type": "code",
   "execution_count": 2,
   "id": "d0a6191b-6f04-496f-89c9-f4b7429d29b7",
   "metadata": {},
   "outputs": [],
   "source": [
    "uk_accident = pd.read_csv('ds\\\\uk_road_accident.csv')"
   ]
  },
  {
   "cell_type": "code",
   "execution_count": 3,
   "id": "98f8134f-148e-4d78-b646-6ec6d1cdb732",
   "metadata": {},
   "outputs": [
    {
     "data": {
      "text/html": [
       "<div>\n",
       "<style scoped>\n",
       "    .dataframe tbody tr th:only-of-type {\n",
       "        vertical-align: middle;\n",
       "    }\n",
       "\n",
       "    .dataframe tbody tr th {\n",
       "        vertical-align: top;\n",
       "    }\n",
       "\n",
       "    .dataframe thead th {\n",
       "        text-align: right;\n",
       "    }\n",
       "</style>\n",
       "<table border=\"1\" class=\"dataframe\">\n",
       "  <thead>\n",
       "    <tr style=\"text-align: right;\">\n",
       "      <th></th>\n",
       "      <th>Index</th>\n",
       "      <th>Accident_Severity</th>\n",
       "      <th>Accident Date</th>\n",
       "      <th>Latitude</th>\n",
       "      <th>Light_Conditions</th>\n",
       "      <th>District Area</th>\n",
       "      <th>Longitude</th>\n",
       "      <th>Number_of_Casualties</th>\n",
       "      <th>Number_of_Vehicles</th>\n",
       "      <th>Road_Surface_Conditions</th>\n",
       "      <th>Road_Type</th>\n",
       "      <th>Urban_or_Rural_Area</th>\n",
       "      <th>Weather_Conditions</th>\n",
       "      <th>Vehicle_Type</th>\n",
       "    </tr>\n",
       "  </thead>\n",
       "  <tbody>\n",
       "    <tr>\n",
       "      <th>0</th>\n",
       "      <td>200701BS64157</td>\n",
       "      <td>Serious</td>\n",
       "      <td>5/6/2019</td>\n",
       "      <td>51.506187</td>\n",
       "      <td>Darkness - lights lit</td>\n",
       "      <td>Kensington and Chelsea</td>\n",
       "      <td>-0.209082</td>\n",
       "      <td>1</td>\n",
       "      <td>2</td>\n",
       "      <td>Dry</td>\n",
       "      <td>Single carriageway</td>\n",
       "      <td>Urban</td>\n",
       "      <td>Fine no high winds</td>\n",
       "      <td>Car</td>\n",
       "    </tr>\n",
       "    <tr>\n",
       "      <th>1</th>\n",
       "      <td>200701BS65737</td>\n",
       "      <td>Serious</td>\n",
       "      <td>2/7/2019</td>\n",
       "      <td>51.495029</td>\n",
       "      <td>Daylight</td>\n",
       "      <td>Kensington and Chelsea</td>\n",
       "      <td>-0.173647</td>\n",
       "      <td>1</td>\n",
       "      <td>2</td>\n",
       "      <td>Wet or damp</td>\n",
       "      <td>Single carriageway</td>\n",
       "      <td>Urban</td>\n",
       "      <td>Raining no high winds</td>\n",
       "      <td>Car</td>\n",
       "    </tr>\n",
       "    <tr>\n",
       "      <th>2</th>\n",
       "      <td>200701BS66127</td>\n",
       "      <td>Serious</td>\n",
       "      <td>26-08-2019</td>\n",
       "      <td>51.517715</td>\n",
       "      <td>Darkness - lighting unknown</td>\n",
       "      <td>Kensington and Chelsea</td>\n",
       "      <td>-0.210215</td>\n",
       "      <td>1</td>\n",
       "      <td>3</td>\n",
       "      <td>Dry</td>\n",
       "      <td>NaN</td>\n",
       "      <td>Urban</td>\n",
       "      <td>NaN</td>\n",
       "      <td>Taxi/Private hire car</td>\n",
       "    </tr>\n",
       "    <tr>\n",
       "      <th>3</th>\n",
       "      <td>200701BS66128</td>\n",
       "      <td>Serious</td>\n",
       "      <td>16-08-2019</td>\n",
       "      <td>51.495478</td>\n",
       "      <td>Daylight</td>\n",
       "      <td>Kensington and Chelsea</td>\n",
       "      <td>-0.202731</td>\n",
       "      <td>1</td>\n",
       "      <td>4</td>\n",
       "      <td>Dry</td>\n",
       "      <td>Single carriageway</td>\n",
       "      <td>Urban</td>\n",
       "      <td>Fine no high winds</td>\n",
       "      <td>Bus or coach (17 or more pass seats)</td>\n",
       "    </tr>\n",
       "    <tr>\n",
       "      <th>4</th>\n",
       "      <td>200701BS66837</td>\n",
       "      <td>Slight</td>\n",
       "      <td>3/9/2019</td>\n",
       "      <td>51.488576</td>\n",
       "      <td>Darkness - lights lit</td>\n",
       "      <td>Kensington and Chelsea</td>\n",
       "      <td>-0.192487</td>\n",
       "      <td>1</td>\n",
       "      <td>2</td>\n",
       "      <td>Dry</td>\n",
       "      <td>NaN</td>\n",
       "      <td>Urban</td>\n",
       "      <td>NaN</td>\n",
       "      <td>Other vehicle</td>\n",
       "    </tr>\n",
       "    <tr>\n",
       "      <th>...</th>\n",
       "      <td>...</td>\n",
       "      <td>...</td>\n",
       "      <td>...</td>\n",
       "      <td>...</td>\n",
       "      <td>...</td>\n",
       "      <td>...</td>\n",
       "      <td>...</td>\n",
       "      <td>...</td>\n",
       "      <td>...</td>\n",
       "      <td>...</td>\n",
       "      <td>...</td>\n",
       "      <td>...</td>\n",
       "      <td>...</td>\n",
       "      <td>...</td>\n",
       "    </tr>\n",
       "    <tr>\n",
       "      <th>660674</th>\n",
       "      <td>201091NM01760</td>\n",
       "      <td>Slight</td>\n",
       "      <td>18-02-2022</td>\n",
       "      <td>57.374005</td>\n",
       "      <td>Daylight</td>\n",
       "      <td>Highland</td>\n",
       "      <td>-3.467828</td>\n",
       "      <td>2</td>\n",
       "      <td>1</td>\n",
       "      <td>Dry</td>\n",
       "      <td>Single carriageway</td>\n",
       "      <td>Rural</td>\n",
       "      <td>Fine no high winds</td>\n",
       "      <td>Car</td>\n",
       "    </tr>\n",
       "    <tr>\n",
       "      <th>660675</th>\n",
       "      <td>201091NM01881</td>\n",
       "      <td>Slight</td>\n",
       "      <td>21-02-2022</td>\n",
       "      <td>57.232273</td>\n",
       "      <td>Darkness - no lighting</td>\n",
       "      <td>Highland</td>\n",
       "      <td>-3.809281</td>\n",
       "      <td>1</td>\n",
       "      <td>1</td>\n",
       "      <td>Frost or ice</td>\n",
       "      <td>Single carriageway</td>\n",
       "      <td>Rural</td>\n",
       "      <td>Fine no high winds</td>\n",
       "      <td>Car</td>\n",
       "    </tr>\n",
       "    <tr>\n",
       "      <th>660676</th>\n",
       "      <td>201091NM01935</td>\n",
       "      <td>Slight</td>\n",
       "      <td>23-02-2022</td>\n",
       "      <td>57.585044</td>\n",
       "      <td>Daylight</td>\n",
       "      <td>Highland</td>\n",
       "      <td>-3.862727</td>\n",
       "      <td>1</td>\n",
       "      <td>3</td>\n",
       "      <td>Frost or ice</td>\n",
       "      <td>Single carriageway</td>\n",
       "      <td>Rural</td>\n",
       "      <td>Fine no high winds</td>\n",
       "      <td>Car</td>\n",
       "    </tr>\n",
       "    <tr>\n",
       "      <th>660677</th>\n",
       "      <td>201091NM01964</td>\n",
       "      <td>Serious</td>\n",
       "      <td>23-02-2022</td>\n",
       "      <td>57.214898</td>\n",
       "      <td>Darkness - no lighting</td>\n",
       "      <td>Highland</td>\n",
       "      <td>-3.823997</td>\n",
       "      <td>1</td>\n",
       "      <td>2</td>\n",
       "      <td>Wet or damp</td>\n",
       "      <td>Single carriageway</td>\n",
       "      <td>Rural</td>\n",
       "      <td>Fine no high winds</td>\n",
       "      <td>Motorcycle over 500cc</td>\n",
       "    </tr>\n",
       "    <tr>\n",
       "      <th>660678</th>\n",
       "      <td>201091NM02142</td>\n",
       "      <td>Serious</td>\n",
       "      <td>28-02-2022</td>\n",
       "      <td>57.575210</td>\n",
       "      <td>Daylight</td>\n",
       "      <td>Highland</td>\n",
       "      <td>-3.895673</td>\n",
       "      <td>1</td>\n",
       "      <td>1</td>\n",
       "      <td>Wet or damp</td>\n",
       "      <td>Dual carriageway</td>\n",
       "      <td>Rural</td>\n",
       "      <td>Snowing no high winds</td>\n",
       "      <td>Car</td>\n",
       "    </tr>\n",
       "  </tbody>\n",
       "</table>\n",
       "<p>660679 rows × 14 columns</p>\n",
       "</div>"
      ],
      "text/plain": [
       "                Index Accident_Severity Accident Date   Latitude  \\\n",
       "0       200701BS64157           Serious      5/6/2019  51.506187   \n",
       "1       200701BS65737           Serious      2/7/2019  51.495029   \n",
       "2       200701BS66127           Serious    26-08-2019  51.517715   \n",
       "3       200701BS66128           Serious    16-08-2019  51.495478   \n",
       "4       200701BS66837            Slight      3/9/2019  51.488576   \n",
       "...               ...               ...           ...        ...   \n",
       "660674  201091NM01760            Slight    18-02-2022  57.374005   \n",
       "660675  201091NM01881            Slight    21-02-2022  57.232273   \n",
       "660676  201091NM01935            Slight    23-02-2022  57.585044   \n",
       "660677  201091NM01964           Serious    23-02-2022  57.214898   \n",
       "660678  201091NM02142           Serious    28-02-2022  57.575210   \n",
       "\n",
       "                   Light_Conditions           District Area  Longitude  \\\n",
       "0             Darkness - lights lit  Kensington and Chelsea  -0.209082   \n",
       "1                          Daylight  Kensington and Chelsea  -0.173647   \n",
       "2       Darkness - lighting unknown  Kensington and Chelsea  -0.210215   \n",
       "3                          Daylight  Kensington and Chelsea  -0.202731   \n",
       "4             Darkness - lights lit  Kensington and Chelsea  -0.192487   \n",
       "...                             ...                     ...        ...   \n",
       "660674                     Daylight                Highland  -3.467828   \n",
       "660675       Darkness - no lighting                Highland  -3.809281   \n",
       "660676                     Daylight                Highland  -3.862727   \n",
       "660677       Darkness - no lighting                Highland  -3.823997   \n",
       "660678                     Daylight                Highland  -3.895673   \n",
       "\n",
       "        Number_of_Casualties  Number_of_Vehicles Road_Surface_Conditions  \\\n",
       "0                          1                   2                     Dry   \n",
       "1                          1                   2             Wet or damp   \n",
       "2                          1                   3                     Dry   \n",
       "3                          1                   4                     Dry   \n",
       "4                          1                   2                     Dry   \n",
       "...                      ...                 ...                     ...   \n",
       "660674                     2                   1                     Dry   \n",
       "660675                     1                   1            Frost or ice   \n",
       "660676                     1                   3            Frost or ice   \n",
       "660677                     1                   2             Wet or damp   \n",
       "660678                     1                   1             Wet or damp   \n",
       "\n",
       "                 Road_Type Urban_or_Rural_Area     Weather_Conditions  \\\n",
       "0       Single carriageway               Urban     Fine no high winds   \n",
       "1       Single carriageway               Urban  Raining no high winds   \n",
       "2                      NaN               Urban                    NaN   \n",
       "3       Single carriageway               Urban     Fine no high winds   \n",
       "4                      NaN               Urban                    NaN   \n",
       "...                    ...                 ...                    ...   \n",
       "660674  Single carriageway               Rural     Fine no high winds   \n",
       "660675  Single carriageway               Rural     Fine no high winds   \n",
       "660676  Single carriageway               Rural     Fine no high winds   \n",
       "660677  Single carriageway               Rural     Fine no high winds   \n",
       "660678    Dual carriageway               Rural  Snowing no high winds   \n",
       "\n",
       "                                Vehicle_Type  \n",
       "0                                        Car  \n",
       "1                                        Car  \n",
       "2                      Taxi/Private hire car  \n",
       "3       Bus or coach (17 or more pass seats)  \n",
       "4                              Other vehicle  \n",
       "...                                      ...  \n",
       "660674                                   Car  \n",
       "660675                                   Car  \n",
       "660676                                   Car  \n",
       "660677                 Motorcycle over 500cc  \n",
       "660678                                   Car  \n",
       "\n",
       "[660679 rows x 14 columns]"
      ]
     },
     "execution_count": 3,
     "metadata": {},
     "output_type": "execute_result"
    }
   ],
   "source": [
    "uk_accident"
   ]
  },
  {
   "cell_type": "code",
   "execution_count": 4,
   "id": "ae580fad-1061-4c89-a04e-238bc824ad21",
   "metadata": {},
   "outputs": [
    {
     "data": {
      "text/plain": [
       "Index(['Index', 'Accident_Severity', 'Accident Date', 'Latitude',\n",
       "       'Light_Conditions', 'District Area', 'Longitude',\n",
       "       'Number_of_Casualties', 'Number_of_Vehicles', 'Road_Surface_Conditions',\n",
       "       'Road_Type', 'Urban_or_Rural_Area', 'Weather_Conditions',\n",
       "       'Vehicle_Type'],\n",
       "      dtype='object')"
      ]
     },
     "execution_count": 4,
     "metadata": {},
     "output_type": "execute_result"
    }
   ],
   "source": [
    "uk_accident.columns"
   ]
  },
  {
   "cell_type": "code",
   "execution_count": 5,
   "id": "cf199301-ab22-462d-91b7-eaa040c0ff50",
   "metadata": {},
   "outputs": [
    {
     "name": "stdout",
     "output_type": "stream",
     "text": [
      "<class 'pandas.core.frame.DataFrame'>\n",
      "RangeIndex: 660679 entries, 0 to 660678\n",
      "Data columns (total 14 columns):\n",
      " #   Column                   Non-Null Count   Dtype  \n",
      "---  ------                   --------------   -----  \n",
      " 0   Index                    660679 non-null  object \n",
      " 1   Accident_Severity        660679 non-null  object \n",
      " 2   Accident Date            660679 non-null  object \n",
      " 3   Latitude                 660654 non-null  float64\n",
      " 4   Light_Conditions         660679 non-null  object \n",
      " 5   District Area            660679 non-null  object \n",
      " 6   Longitude                660653 non-null  float64\n",
      " 7   Number_of_Casualties     660679 non-null  int64  \n",
      " 8   Number_of_Vehicles       660679 non-null  int64  \n",
      " 9   Road_Surface_Conditions  659953 non-null  object \n",
      " 10  Road_Type                656159 non-null  object \n",
      " 11  Urban_or_Rural_Area      660664 non-null  object \n",
      " 12  Weather_Conditions       646551 non-null  object \n",
      " 13  Vehicle_Type             660679 non-null  object \n",
      "dtypes: float64(2), int64(2), object(10)\n",
      "memory usage: 70.6+ MB\n"
     ]
    }
   ],
   "source": [
    "uk_accident.info()"
   ]
  },
  {
   "cell_type": "code",
   "execution_count": 6,
   "id": "2ae39be8-2c29-4bc8-bf49-daf9372f2323",
   "metadata": {},
   "outputs": [
    {
     "data": {
      "text/html": [
       "<div>\n",
       "<style scoped>\n",
       "    .dataframe tbody tr th:only-of-type {\n",
       "        vertical-align: middle;\n",
       "    }\n",
       "\n",
       "    .dataframe tbody tr th {\n",
       "        vertical-align: top;\n",
       "    }\n",
       "\n",
       "    .dataframe thead th {\n",
       "        text-align: right;\n",
       "    }\n",
       "</style>\n",
       "<table border=\"1\" class=\"dataframe\">\n",
       "  <thead>\n",
       "    <tr style=\"text-align: right;\">\n",
       "      <th></th>\n",
       "      <th>Latitude</th>\n",
       "      <th>Longitude</th>\n",
       "      <th>Number_of_Casualties</th>\n",
       "      <th>Number_of_Vehicles</th>\n",
       "    </tr>\n",
       "  </thead>\n",
       "  <tbody>\n",
       "    <tr>\n",
       "      <th>count</th>\n",
       "      <td>660654.000000</td>\n",
       "      <td>660653.000000</td>\n",
       "      <td>660679.000000</td>\n",
       "      <td>660679.000000</td>\n",
       "    </tr>\n",
       "    <tr>\n",
       "      <th>mean</th>\n",
       "      <td>52.553866</td>\n",
       "      <td>-1.431210</td>\n",
       "      <td>1.357040</td>\n",
       "      <td>1.831255</td>\n",
       "    </tr>\n",
       "    <tr>\n",
       "      <th>std</th>\n",
       "      <td>1.406922</td>\n",
       "      <td>1.383330</td>\n",
       "      <td>0.824847</td>\n",
       "      <td>0.715269</td>\n",
       "    </tr>\n",
       "    <tr>\n",
       "      <th>min</th>\n",
       "      <td>49.914430</td>\n",
       "      <td>-7.516225</td>\n",
       "      <td>1.000000</td>\n",
       "      <td>1.000000</td>\n",
       "    </tr>\n",
       "    <tr>\n",
       "      <th>25%</th>\n",
       "      <td>51.490690</td>\n",
       "      <td>-2.332291</td>\n",
       "      <td>1.000000</td>\n",
       "      <td>1.000000</td>\n",
       "    </tr>\n",
       "    <tr>\n",
       "      <th>50%</th>\n",
       "      <td>52.315641</td>\n",
       "      <td>-1.411667</td>\n",
       "      <td>1.000000</td>\n",
       "      <td>2.000000</td>\n",
       "    </tr>\n",
       "    <tr>\n",
       "      <th>75%</th>\n",
       "      <td>53.453452</td>\n",
       "      <td>-0.232869</td>\n",
       "      <td>1.000000</td>\n",
       "      <td>2.000000</td>\n",
       "    </tr>\n",
       "    <tr>\n",
       "      <th>max</th>\n",
       "      <td>60.757544</td>\n",
       "      <td>1.762010</td>\n",
       "      <td>68.000000</td>\n",
       "      <td>32.000000</td>\n",
       "    </tr>\n",
       "  </tbody>\n",
       "</table>\n",
       "</div>"
      ],
      "text/plain": [
       "            Latitude      Longitude  Number_of_Casualties  Number_of_Vehicles\n",
       "count  660654.000000  660653.000000         660679.000000       660679.000000\n",
       "mean       52.553866      -1.431210              1.357040            1.831255\n",
       "std         1.406922       1.383330              0.824847            0.715269\n",
       "min        49.914430      -7.516225              1.000000            1.000000\n",
       "25%        51.490690      -2.332291              1.000000            1.000000\n",
       "50%        52.315641      -1.411667              1.000000            2.000000\n",
       "75%        53.453452      -0.232869              1.000000            2.000000\n",
       "max        60.757544       1.762010             68.000000           32.000000"
      ]
     },
     "execution_count": 6,
     "metadata": {},
     "output_type": "execute_result"
    }
   ],
   "source": [
    "uk_accident.describe()"
   ]
  },
  {
   "cell_type": "code",
   "execution_count": 7,
   "id": "805e9ba8-73e7-404d-88b2-eb369f08cc17",
   "metadata": {},
   "outputs": [
    {
     "data": {
      "text/plain": [
       "Index                          0\n",
       "Accident_Severity              0\n",
       "Accident Date                  0\n",
       "Latitude                      25\n",
       "Light_Conditions               0\n",
       "District Area                  0\n",
       "Longitude                     26\n",
       "Number_of_Casualties           0\n",
       "Number_of_Vehicles             0\n",
       "Road_Surface_Conditions      726\n",
       "Road_Type                   4520\n",
       "Urban_or_Rural_Area           15\n",
       "Weather_Conditions         14128\n",
       "Vehicle_Type                   0\n",
       "dtype: int64"
      ]
     },
     "execution_count": 7,
     "metadata": {},
     "output_type": "execute_result"
    }
   ],
   "source": [
    "uk_accident.isnull().sum()"
   ]
  },
  {
   "cell_type": "code",
   "execution_count": 8,
   "id": "324c23dd-9752-46b4-9cc8-0d075c22b5f4",
   "metadata": {},
   "outputs": [
    {
     "name": "stdout",
     "output_type": "stream",
     "text": [
      "Index(['Index', 'Accident_Severity', 'Accident Date', 'Latitude',\n",
      "       'Light_Conditions', 'District Area', 'Longitude',\n",
      "       'Number_of_Casualties', 'Number_of_Vehicles', 'Road_Surface_Conditions',\n",
      "       'Road_Type', 'Urban_or_Rural_Area', 'Weather_Conditions',\n",
      "       'Vehicle_Type'],\n",
      "      dtype='object')\n"
     ]
    }
   ],
   "source": [
    "print(uk_accident.columns)"
   ]
  },
  {
   "cell_type": "code",
   "execution_count": 9,
   "id": "b489b371-c895-4db8-a44d-a2455030ec48",
   "metadata": {},
   "outputs": [
    {
     "data": {
      "text/plain": [
       "0         Serious\n",
       "1         Serious\n",
       "2         Serious\n",
       "3         Serious\n",
       "4          Slight\n",
       "           ...   \n",
       "660674     Slight\n",
       "660675     Slight\n",
       "660676     Slight\n",
       "660677    Serious\n",
       "660678    Serious\n",
       "Name: Accident_Severity, Length: 660679, dtype: object"
      ]
     },
     "execution_count": 9,
     "metadata": {},
     "output_type": "execute_result"
    }
   ],
   "source": [
    "uk_accident ['Accident_Severity']"
   ]
  },
  {
   "cell_type": "code",
   "execution_count": 10,
   "id": "b10cf0fa-d4c2-48e3-82c4-799b5523ac61",
   "metadata": {},
   "outputs": [
    {
     "data": {
      "text/plain": [
       "0          True\n",
       "1          True\n",
       "2          True\n",
       "3          True\n",
       "4         False\n",
       "          ...  \n",
       "660674    False\n",
       "660675    False\n",
       "660676    False\n",
       "660677     True\n",
       "660678     True\n",
       "Name: Accident_Severity, Length: 660679, dtype: bool"
      ]
     },
     "execution_count": 10,
     "metadata": {},
     "output_type": "execute_result"
    }
   ],
   "source": [
    "uk_accident ['Accident_Severity'] == 'Serious'"
   ]
  },
  {
   "cell_type": "code",
   "execution_count": 11,
   "id": "0b9ee09f-c0a6-4735-9121-35e85d5f4d6c",
   "metadata": {},
   "outputs": [
    {
     "data": {
      "text/html": [
       "<div>\n",
       "<style scoped>\n",
       "    .dataframe tbody tr th:only-of-type {\n",
       "        vertical-align: middle;\n",
       "    }\n",
       "\n",
       "    .dataframe tbody tr th {\n",
       "        vertical-align: top;\n",
       "    }\n",
       "\n",
       "    .dataframe thead th {\n",
       "        text-align: right;\n",
       "    }\n",
       "</style>\n",
       "<table border=\"1\" class=\"dataframe\">\n",
       "  <thead>\n",
       "    <tr style=\"text-align: right;\">\n",
       "      <th></th>\n",
       "      <th>Index</th>\n",
       "      <th>Accident_Severity</th>\n",
       "      <th>Accident Date</th>\n",
       "      <th>Latitude</th>\n",
       "      <th>Light_Conditions</th>\n",
       "      <th>District Area</th>\n",
       "      <th>Longitude</th>\n",
       "      <th>Number_of_Casualties</th>\n",
       "      <th>Number_of_Vehicles</th>\n",
       "      <th>Road_Surface_Conditions</th>\n",
       "      <th>Road_Type</th>\n",
       "      <th>Urban_or_Rural_Area</th>\n",
       "      <th>Weather_Conditions</th>\n",
       "      <th>Vehicle_Type</th>\n",
       "    </tr>\n",
       "  </thead>\n",
       "  <tbody>\n",
       "    <tr>\n",
       "      <th>0</th>\n",
       "      <td>200701BS64157</td>\n",
       "      <td>Serious</td>\n",
       "      <td>5/6/2019</td>\n",
       "      <td>51.506187</td>\n",
       "      <td>Darkness - lights lit</td>\n",
       "      <td>Kensington and Chelsea</td>\n",
       "      <td>-0.209082</td>\n",
       "      <td>1</td>\n",
       "      <td>2</td>\n",
       "      <td>Dry</td>\n",
       "      <td>Single carriageway</td>\n",
       "      <td>Urban</td>\n",
       "      <td>Fine no high winds</td>\n",
       "      <td>Car</td>\n",
       "    </tr>\n",
       "    <tr>\n",
       "      <th>1</th>\n",
       "      <td>200701BS65737</td>\n",
       "      <td>Serious</td>\n",
       "      <td>2/7/2019</td>\n",
       "      <td>51.495029</td>\n",
       "      <td>Daylight</td>\n",
       "      <td>Kensington and Chelsea</td>\n",
       "      <td>-0.173647</td>\n",
       "      <td>1</td>\n",
       "      <td>2</td>\n",
       "      <td>Wet or damp</td>\n",
       "      <td>Single carriageway</td>\n",
       "      <td>Urban</td>\n",
       "      <td>Raining no high winds</td>\n",
       "      <td>Car</td>\n",
       "    </tr>\n",
       "    <tr>\n",
       "      <th>2</th>\n",
       "      <td>200701BS66127</td>\n",
       "      <td>Serious</td>\n",
       "      <td>26-08-2019</td>\n",
       "      <td>51.517715</td>\n",
       "      <td>Darkness - lighting unknown</td>\n",
       "      <td>Kensington and Chelsea</td>\n",
       "      <td>-0.210215</td>\n",
       "      <td>1</td>\n",
       "      <td>3</td>\n",
       "      <td>Dry</td>\n",
       "      <td>NaN</td>\n",
       "      <td>Urban</td>\n",
       "      <td>NaN</td>\n",
       "      <td>Taxi/Private hire car</td>\n",
       "    </tr>\n",
       "    <tr>\n",
       "      <th>3</th>\n",
       "      <td>200701BS66128</td>\n",
       "      <td>Serious</td>\n",
       "      <td>16-08-2019</td>\n",
       "      <td>51.495478</td>\n",
       "      <td>Daylight</td>\n",
       "      <td>Kensington and Chelsea</td>\n",
       "      <td>-0.202731</td>\n",
       "      <td>1</td>\n",
       "      <td>4</td>\n",
       "      <td>Dry</td>\n",
       "      <td>Single carriageway</td>\n",
       "      <td>Urban</td>\n",
       "      <td>Fine no high winds</td>\n",
       "      <td>Bus or coach (17 or more pass seats)</td>\n",
       "    </tr>\n",
       "    <tr>\n",
       "      <th>5</th>\n",
       "      <td>200701BS67159</td>\n",
       "      <td>Serious</td>\n",
       "      <td>18-09-2019</td>\n",
       "      <td>51.497750</td>\n",
       "      <td>Daylight</td>\n",
       "      <td>Kensington and Chelsea</td>\n",
       "      <td>-0.192556</td>\n",
       "      <td>2</td>\n",
       "      <td>3</td>\n",
       "      <td>Dry</td>\n",
       "      <td>Single carriageway</td>\n",
       "      <td>Urban</td>\n",
       "      <td>Fine no high winds</td>\n",
       "      <td>Car</td>\n",
       "    </tr>\n",
       "    <tr>\n",
       "      <th>...</th>\n",
       "      <td>...</td>\n",
       "      <td>...</td>\n",
       "      <td>...</td>\n",
       "      <td>...</td>\n",
       "      <td>...</td>\n",
       "      <td>...</td>\n",
       "      <td>...</td>\n",
       "      <td>...</td>\n",
       "      <td>...</td>\n",
       "      <td>...</td>\n",
       "      <td>...</td>\n",
       "      <td>...</td>\n",
       "      <td>...</td>\n",
       "      <td>...</td>\n",
       "    </tr>\n",
       "    <tr>\n",
       "      <th>660629</th>\n",
       "      <td>201091NL00686</td>\n",
       "      <td>Serious</td>\n",
       "      <td>11/2/2022</td>\n",
       "      <td>57.687933</td>\n",
       "      <td>Daylight</td>\n",
       "      <td>Shetland Islands</td>\n",
       "      <td>-4.176860</td>\n",
       "      <td>1</td>\n",
       "      <td>2</td>\n",
       "      <td>Dry</td>\n",
       "      <td>Single carriageway</td>\n",
       "      <td>Rural</td>\n",
       "      <td>Fine + high winds</td>\n",
       "      <td>Car</td>\n",
       "    </tr>\n",
       "    <tr>\n",
       "      <th>660645</th>\n",
       "      <td>201091NL05842</td>\n",
       "      <td>Serious</td>\n",
       "      <td>18-10-2022</td>\n",
       "      <td>60.162660</td>\n",
       "      <td>Daylight</td>\n",
       "      <td>Shetland Islands</td>\n",
       "      <td>-1.165232</td>\n",
       "      <td>1</td>\n",
       "      <td>1</td>\n",
       "      <td>Dry</td>\n",
       "      <td>Single carriageway</td>\n",
       "      <td>Rural</td>\n",
       "      <td>Fine + high winds</td>\n",
       "      <td>Car</td>\n",
       "    </tr>\n",
       "    <tr>\n",
       "      <th>660672</th>\n",
       "      <td>201091NM01085</td>\n",
       "      <td>Serious</td>\n",
       "      <td>29-01-2022</td>\n",
       "      <td>57.170725</td>\n",
       "      <td>Daylight</td>\n",
       "      <td>Highland</td>\n",
       "      <td>-3.852421</td>\n",
       "      <td>1</td>\n",
       "      <td>2</td>\n",
       "      <td>Snow</td>\n",
       "      <td>Single carriageway</td>\n",
       "      <td>Rural</td>\n",
       "      <td>Fine no high winds</td>\n",
       "      <td>Car</td>\n",
       "    </tr>\n",
       "    <tr>\n",
       "      <th>660677</th>\n",
       "      <td>201091NM01964</td>\n",
       "      <td>Serious</td>\n",
       "      <td>23-02-2022</td>\n",
       "      <td>57.214898</td>\n",
       "      <td>Darkness - no lighting</td>\n",
       "      <td>Highland</td>\n",
       "      <td>-3.823997</td>\n",
       "      <td>1</td>\n",
       "      <td>2</td>\n",
       "      <td>Wet or damp</td>\n",
       "      <td>Single carriageway</td>\n",
       "      <td>Rural</td>\n",
       "      <td>Fine no high winds</td>\n",
       "      <td>Motorcycle over 500cc</td>\n",
       "    </tr>\n",
       "    <tr>\n",
       "      <th>660678</th>\n",
       "      <td>201091NM02142</td>\n",
       "      <td>Serious</td>\n",
       "      <td>28-02-2022</td>\n",
       "      <td>57.575210</td>\n",
       "      <td>Daylight</td>\n",
       "      <td>Highland</td>\n",
       "      <td>-3.895673</td>\n",
       "      <td>1</td>\n",
       "      <td>1</td>\n",
       "      <td>Wet or damp</td>\n",
       "      <td>Dual carriageway</td>\n",
       "      <td>Rural</td>\n",
       "      <td>Snowing no high winds</td>\n",
       "      <td>Car</td>\n",
       "    </tr>\n",
       "  </tbody>\n",
       "</table>\n",
       "<p>88217 rows × 14 columns</p>\n",
       "</div>"
      ],
      "text/plain": [
       "                Index Accident_Severity Accident Date   Latitude  \\\n",
       "0       200701BS64157           Serious      5/6/2019  51.506187   \n",
       "1       200701BS65737           Serious      2/7/2019  51.495029   \n",
       "2       200701BS66127           Serious    26-08-2019  51.517715   \n",
       "3       200701BS66128           Serious    16-08-2019  51.495478   \n",
       "5       200701BS67159           Serious    18-09-2019  51.497750   \n",
       "...               ...               ...           ...        ...   \n",
       "660629  201091NL00686           Serious     11/2/2022  57.687933   \n",
       "660645  201091NL05842           Serious    18-10-2022  60.162660   \n",
       "660672  201091NM01085           Serious    29-01-2022  57.170725   \n",
       "660677  201091NM01964           Serious    23-02-2022  57.214898   \n",
       "660678  201091NM02142           Serious    28-02-2022  57.575210   \n",
       "\n",
       "                   Light_Conditions           District Area  Longitude  \\\n",
       "0             Darkness - lights lit  Kensington and Chelsea  -0.209082   \n",
       "1                          Daylight  Kensington and Chelsea  -0.173647   \n",
       "2       Darkness - lighting unknown  Kensington and Chelsea  -0.210215   \n",
       "3                          Daylight  Kensington and Chelsea  -0.202731   \n",
       "5                          Daylight  Kensington and Chelsea  -0.192556   \n",
       "...                             ...                     ...        ...   \n",
       "660629                     Daylight        Shetland Islands  -4.176860   \n",
       "660645                     Daylight        Shetland Islands  -1.165232   \n",
       "660672                     Daylight                Highland  -3.852421   \n",
       "660677       Darkness - no lighting                Highland  -3.823997   \n",
       "660678                     Daylight                Highland  -3.895673   \n",
       "\n",
       "        Number_of_Casualties  Number_of_Vehicles Road_Surface_Conditions  \\\n",
       "0                          1                   2                     Dry   \n",
       "1                          1                   2             Wet or damp   \n",
       "2                          1                   3                     Dry   \n",
       "3                          1                   4                     Dry   \n",
       "5                          2                   3                     Dry   \n",
       "...                      ...                 ...                     ...   \n",
       "660629                     1                   2                     Dry   \n",
       "660645                     1                   1                     Dry   \n",
       "660672                     1                   2                    Snow   \n",
       "660677                     1                   2             Wet or damp   \n",
       "660678                     1                   1             Wet or damp   \n",
       "\n",
       "                 Road_Type Urban_or_Rural_Area     Weather_Conditions  \\\n",
       "0       Single carriageway               Urban     Fine no high winds   \n",
       "1       Single carriageway               Urban  Raining no high winds   \n",
       "2                      NaN               Urban                    NaN   \n",
       "3       Single carriageway               Urban     Fine no high winds   \n",
       "5       Single carriageway               Urban     Fine no high winds   \n",
       "...                    ...                 ...                    ...   \n",
       "660629  Single carriageway               Rural      Fine + high winds   \n",
       "660645  Single carriageway               Rural      Fine + high winds   \n",
       "660672  Single carriageway               Rural     Fine no high winds   \n",
       "660677  Single carriageway               Rural     Fine no high winds   \n",
       "660678    Dual carriageway               Rural  Snowing no high winds   \n",
       "\n",
       "                                Vehicle_Type  \n",
       "0                                        Car  \n",
       "1                                        Car  \n",
       "2                      Taxi/Private hire car  \n",
       "3       Bus or coach (17 or more pass seats)  \n",
       "5                                        Car  \n",
       "...                                      ...  \n",
       "660629                                   Car  \n",
       "660645                                   Car  \n",
       "660672                                   Car  \n",
       "660677                 Motorcycle over 500cc  \n",
       "660678                                   Car  \n",
       "\n",
       "[88217 rows x 14 columns]"
      ]
     },
     "execution_count": 11,
     "metadata": {},
     "output_type": "execute_result"
    }
   ],
   "source": [
    "uk_accident[uk_accident['Accident_Severity'] == 'Serious']"
   ]
  },
  {
   "cell_type": "code",
   "execution_count": 12,
   "id": "3636c082-1e12-491c-a89f-897b4e262a92",
   "metadata": {},
   "outputs": [
    {
     "data": {
      "text/plain": [
       "array(['Car', 'Taxi/Private hire car',\n",
       "       'Bus or coach (17 or more pass seats)', 'Other vehicle',\n",
       "       'Van / Goods 3.5 tonnes mgw or under',\n",
       "       'Motorcycle over 125cc and up to 500cc',\n",
       "       'Goods 7.5 tonnes mgw and over', 'Motorcycle 125cc and under',\n",
       "       'Motorcycle over 500cc', 'Motorcycle 50cc and under',\n",
       "       'Minibus (8 - 16 passenger seats)',\n",
       "       'Goods over 3.5t. and under 7.5t', 'Pedal cycle',\n",
       "       'Agricultural vehicle', 'Ridden horse',\n",
       "       'Data missing or out of range'], dtype=object)"
      ]
     },
     "execution_count": 12,
     "metadata": {},
     "output_type": "execute_result"
    }
   ],
   "source": [
    "uk_accident['Vehicle_Type'].unique()"
   ]
  },
  {
   "cell_type": "code",
   "execution_count": 13,
   "id": "f61ccb2e-1683-482c-bf25-496aecf693b4",
   "metadata": {},
   "outputs": [
    {
     "data": {
      "text/plain": [
       "Light_Conditions\n",
       "Daylight                       484880\n",
       "Darkness - lights lit          129335\n",
       "Darkness - no lighting          37437\n",
       "Darkness - lighting unknown      6484\n",
       "Darkness - lights unlit          2543\n",
       "Name: count, dtype: int64"
      ]
     },
     "execution_count": 13,
     "metadata": {},
     "output_type": "execute_result"
    }
   ],
   "source": [
    "uk_accident['Light_Conditions'].value_counts()"
   ]
  },
  {
   "cell_type": "code",
   "execution_count": 14,
   "id": "7239a478-0c1e-40cd-b5c0-6fa81a7ce504",
   "metadata": {},
   "outputs": [
    {
     "data": {
      "text/plain": [
       "Index                          0\n",
       "Accident_Severity              0\n",
       "Accident Date                  0\n",
       "Latitude                      25\n",
       "Light_Conditions               0\n",
       "District Area                  0\n",
       "Longitude                     26\n",
       "Number_of_Casualties           0\n",
       "Number_of_Vehicles             0\n",
       "Road_Surface_Conditions      726\n",
       "Road_Type                   4520\n",
       "Urban_or_Rural_Area           15\n",
       "Weather_Conditions         14128\n",
       "Vehicle_Type                   0\n",
       "dtype: int64"
      ]
     },
     "execution_count": 14,
     "metadata": {},
     "output_type": "execute_result"
    }
   ],
   "source": [
    "uk_accident.isnull().sum()"
   ]
  },
  {
   "cell_type": "code",
   "execution_count": 15,
   "id": "d82af65c-c4a9-4829-ad62-48cedd5af70c",
   "metadata": {},
   "outputs": [],
   "source": [
    "uk_accident['Latitude'] = uk_accident['Latitude'].fillna(uk_accident['Latitude'].mean())\n",
    "uk_accident['Longitude'] = uk_accident['Longitude'].fillna(uk_accident['Longitude'].mean())\n",
    "uk_accident['Road_Surface_Conditions'] = uk_accident['Road_Surface_Conditions'].fillna(uk_accident['Road_Surface_Conditions'].mode()[0])\n",
    "uk_accident['Road_Type'] = uk_accident['Road_Type'].fillna(uk_accident['Road_Type'].mode()[0])\n",
    "uk_accident['Urban_or_Rural_Area'] = uk_accident['Urban_or_Rural_Area'].fillna(uk_accident['Urban_or_Rural_Area'].mode()[0])\n",
    "uk_accident['Weather_Conditions'] = uk_accident['Weather_Conditions'].fillna(uk_accident['Weather_Conditions'].mode()[0])"
   ]
  },
  {
   "cell_type": "code",
   "execution_count": 16,
   "id": "fc7006ac-cbae-4ad5-b909-89e830b5cfda",
   "metadata": {},
   "outputs": [
    {
     "data": {
      "text/plain": [
       "Index                      0\n",
       "Accident_Severity          0\n",
       "Accident Date              0\n",
       "Latitude                   0\n",
       "Light_Conditions           0\n",
       "District Area              0\n",
       "Longitude                  0\n",
       "Number_of_Casualties       0\n",
       "Number_of_Vehicles         0\n",
       "Road_Surface_Conditions    0\n",
       "Road_Type                  0\n",
       "Urban_or_Rural_Area        0\n",
       "Weather_Conditions         0\n",
       "Vehicle_Type               0\n",
       "dtype: int64"
      ]
     },
     "execution_count": 16,
     "metadata": {},
     "output_type": "execute_result"
    }
   ],
   "source": [
    "uk_accident.isnull().sum()"
   ]
  },
  {
   "cell_type": "code",
   "execution_count": 17,
   "id": "8d4729d5-0927-40e1-9466-d10e81b56b90",
   "metadata": {},
   "outputs": [],
   "source": [
    "uk_accident['Accident Date'] = pd.to_datetime(uk_accident['Accident Date'], dayfirst = True, errors = 'coerce')"
   ]
  },
  {
   "cell_type": "code",
   "execution_count": 18,
   "id": "c90131d8-5f41-47c4-834f-70cebaab4d36",
   "metadata": {},
   "outputs": [
    {
     "data": {
      "text/plain": [
       "Index                              object\n",
       "Accident_Severity                  object\n",
       "Accident Date              datetime64[ns]\n",
       "Latitude                          float64\n",
       "Light_Conditions                   object\n",
       "District Area                      object\n",
       "Longitude                         float64\n",
       "Number_of_Casualties                int64\n",
       "Number_of_Vehicles                  int64\n",
       "Road_Surface_Conditions            object\n",
       "Road_Type                          object\n",
       "Urban_or_Rural_Area                object\n",
       "Weather_Conditions                 object\n",
       "Vehicle_Type                       object\n",
       "dtype: object"
      ]
     },
     "execution_count": 18,
     "metadata": {},
     "output_type": "execute_result"
    }
   ],
   "source": [
    "uk_accident.dtypes"
   ]
  },
  {
   "cell_type": "code",
   "execution_count": 19,
   "id": "d39b2047-d57f-49de-abdc-fef97fe1e09b",
   "metadata": {},
   "outputs": [],
   "source": [
    "uk_accident['Year'] = uk_accident['Accident Date'].dt.year\n",
    "uk_accident['Month'] = uk_accident['Accident Date'].dt.month\n",
    "uk_accident['Day'] = uk_accident['Accident Date'].dt.day\n",
    "uk_accident['DayOfWeek'] = uk_accident['Accident Date'].dt.dayofweek"
   ]
  },
  {
   "cell_type": "code",
   "execution_count": 20,
   "id": "3c8d4b2e-67f7-4854-9805-9d99b841ecd1",
   "metadata": {},
   "outputs": [
    {
     "data": {
      "text/plain": [
       "Index                           0\n",
       "Accident_Severity               0\n",
       "Accident Date              395672\n",
       "Latitude                        0\n",
       "Light_Conditions                0\n",
       "District Area                   0\n",
       "Longitude                       0\n",
       "Number_of_Casualties            0\n",
       "Number_of_Vehicles              0\n",
       "Road_Surface_Conditions         0\n",
       "Road_Type                       0\n",
       "Urban_or_Rural_Area             0\n",
       "Weather_Conditions              0\n",
       "Vehicle_Type                    0\n",
       "Year                       395672\n",
       "Month                      395672\n",
       "Day                        395672\n",
       "DayOfWeek                  395672\n",
       "dtype: int64"
      ]
     },
     "execution_count": 20,
     "metadata": {},
     "output_type": "execute_result"
    }
   ],
   "source": [
    "uk_accident.isnull().sum()"
   ]
  },
  {
   "cell_type": "markdown",
   "id": "df253945-057e-4e30-b0a4-b1c182b4e4f4",
   "metadata": {},
   "source": [
    "<h1> CHANGE THE DATA TYPES </h1>"
   ]
  },
  {
   "cell_type": "code",
   "execution_count": 21,
   "id": "2d93825a-8b04-4475-bc41-54ca44a76d4c",
   "metadata": {},
   "outputs": [],
   "source": [
    "uk_accident['Accident_Severity'] = uk_accident['Accident_Severity'].astype('category')\n",
    "uk_accident['Light_Conditions'] = uk_accident['Light_Conditions'].astype('category')\n",
    "uk_accident['District Area'] = uk_accident['District Area'].astype('category')\n",
    "uk_accident['Road_Surface_Conditions'] = uk_accident['Road_Surface_Conditions'].astype('category')\n",
    "uk_accident['Road_Type'] = uk_accident['Road_Type'].astype('category')\n",
    "uk_accident['Urban_or_Rural_Area'] = uk_accident['Urban_or_Rural_Area'].astype('category')\n",
    "uk_accident['Weather_Conditions'] = uk_accident['Weather_Conditions'].astype('category')\n",
    "uk_accident['Vehicle_Type'] = uk_accident['Vehicle_Type'].astype('category')"
   ]
  },
  {
   "cell_type": "code",
   "execution_count": 22,
   "id": "1ed10458-5f13-4a88-a11d-be377b00eb37",
   "metadata": {},
   "outputs": [
    {
     "name": "stdout",
     "output_type": "stream",
     "text": [
      "<class 'pandas.core.frame.DataFrame'>\n",
      "RangeIndex: 660679 entries, 0 to 660678\n",
      "Data columns (total 18 columns):\n",
      " #   Column                   Non-Null Count   Dtype         \n",
      "---  ------                   --------------   -----         \n",
      " 0   Index                    660679 non-null  object        \n",
      " 1   Accident_Severity        660679 non-null  category      \n",
      " 2   Accident Date            265007 non-null  datetime64[ns]\n",
      " 3   Latitude                 660679 non-null  float64       \n",
      " 4   Light_Conditions         660679 non-null  category      \n",
      " 5   District Area            660679 non-null  category      \n",
      " 6   Longitude                660679 non-null  float64       \n",
      " 7   Number_of_Casualties     660679 non-null  int64         \n",
      " 8   Number_of_Vehicles       660679 non-null  int64         \n",
      " 9   Road_Surface_Conditions  660679 non-null  category      \n",
      " 10  Road_Type                660679 non-null  category      \n",
      " 11  Urban_or_Rural_Area      660679 non-null  category      \n",
      " 12  Weather_Conditions       660679 non-null  category      \n",
      " 13  Vehicle_Type             660679 non-null  category      \n",
      " 14  Year                     265007 non-null  float64       \n",
      " 15  Month                    265007 non-null  float64       \n",
      " 16  Day                      265007 non-null  float64       \n",
      " 17  DayOfWeek                265007 non-null  float64       \n",
      "dtypes: category(8), datetime64[ns](1), float64(6), int64(2), object(1)\n",
      "memory usage: 56.1+ MB\n"
     ]
    }
   ],
   "source": [
    "uk_accident.info()"
   ]
  },
  {
   "cell_type": "markdown",
   "id": "f0fff764-241a-4818-bdf4-d8d72900d92a",
   "metadata": {},
   "source": [
    "<h1> QUESTIONS WITH INSIGHT FOR THE UK ROAD ACCIDENT </h1>"
   ]
  },
  {
   "cell_type": "markdown",
   "id": "c3a6b575-d863-4b24-b72e-eeb098b326cc",
   "metadata": {},
   "source": [
    "<hr>"
   ]
  },
  {
   "cell_type": "markdown",
   "id": "5995ad33-3787-4343-a797-5f2369484f81",
   "metadata": {},
   "source": [
    "<h1> 1. WHICH ACCIDENT SEVERITY TYPE APPEARS MOST OFTEN? </h1>"
   ]
  },
  {
   "cell_type": "code",
   "execution_count": 23,
   "id": "8f5c41bf-7acd-4b32-a7df-e352383691bc",
   "metadata": {},
   "outputs": [
    {
     "data": {
      "text/plain": [
       "Accident_Severity\n",
       "Slight     563801\n",
       "Serious     88217\n",
       "Fatal        8661\n",
       "Name: count, dtype: int64"
      ]
     },
     "execution_count": 23,
     "metadata": {},
     "output_type": "execute_result"
    }
   ],
   "source": [
    "uk_accident['Accident_Severity'].value_counts()"
   ]
  },
  {
   "cell_type": "markdown",
   "id": "cb2849df-cfa4-4d5b-8250-457d54c90395",
   "metadata": {},
   "source": [
    "<h1> INSIGHT #1 </h1>\n",
    "\n",
    "<h3> SLIGHT ACCIDENT APPEAR THE MOST, WHILE FATAL ONES ARE THE LEAST.</h3>"
   ]
  },
  {
   "cell_type": "markdown",
   "id": "c37fb07d-1d3c-4b0a-86fa-04ceb961306a",
   "metadata": {},
   "source": [
    "<hr>"
   ]
  },
  {
   "cell_type": "markdown",
   "id": "f5e1c991-a844-4824-957b-6fd499525989",
   "metadata": {},
   "source": [
    "<h1> 2. WHICH LIGHT CONDITION IS THE MOST COMMON DURING ACCIDENTS? </h1>"
   ]
  },
  {
   "cell_type": "code",
   "execution_count": 24,
   "id": "d3931246-32dc-40e2-88e3-556b09127032",
   "metadata": {},
   "outputs": [
    {
     "data": {
      "text/plain": [
       "Light_Conditions\n",
       "Daylight                       484880\n",
       "Darkness - lights lit          129335\n",
       "Darkness - no lighting          37437\n",
       "Darkness - lighting unknown      6484\n",
       "Darkness - lights unlit          2543\n",
       "Name: count, dtype: int64"
      ]
     },
     "execution_count": 24,
     "metadata": {},
     "output_type": "execute_result"
    }
   ],
   "source": [
    "uk_accident['Light_Conditions'].value_counts()"
   ]
  },
  {
   "cell_type": "markdown",
   "id": "23b2cc9b-1f14-4c18-9725-aff776788d51",
   "metadata": {},
   "source": [
    "<h1> INSIGHT #2 </h1>\n",
    "\n",
    "<h3> DAYLIGHT ACCIDENTS ARE THE MOST FREQUENT DUE TO HIGHER TRAFFIC FLOW. </h3>"
   ]
  },
  {
   "cell_type": "markdown",
   "id": "a5d388c8-f1e6-4bbc-9ec0-c3d7efab1b79",
   "metadata": {},
   "source": [
    "<hr>"
   ]
  },
  {
   "cell_type": "markdown",
   "id": "6be1749a-4fea-4e20-8e93-32badc463529",
   "metadata": {},
   "source": [
    "<h1> 3. WHAT IS THE AVERAGE NUMBER OF CASUALTIES PER ACCIDENT? </h1>"
   ]
  },
  {
   "cell_type": "code",
   "execution_count": 25,
   "id": "f9a57931-067c-4159-b1e5-865e570405b8",
   "metadata": {},
   "outputs": [
    {
     "data": {
      "text/plain": [
       "np.float64(1.357040257068864)"
      ]
     },
     "execution_count": 25,
     "metadata": {},
     "output_type": "execute_result"
    }
   ],
   "source": [
    "uk_accident['Number_of_Casualties'].mean()"
   ]
  },
  {
   "cell_type": "markdown",
   "id": "203a50b0-930e-4c10-8d62-37dc47a1d5af",
   "metadata": {},
   "source": [
    "<h1> INSIGHT #3 </h1>\n",
    "\n",
    "<h3> EACH ACCIDENT RESULT IN AT LEAST ONE CASUALTY ON AVERAGE.</h3>"
   ]
  },
  {
   "cell_type": "markdown",
   "id": "fabb44bf-ea81-45d4-b5a5-e131a02005f7",
   "metadata": {},
   "source": [
    "<hr>"
   ]
  },
  {
   "cell_type": "markdown",
   "id": "c8cd94e3-f538-4699-84c6-3008a8024530",
   "metadata": {},
   "source": [
    "<h1> 4. WHAT IS THE AVERAGE NUMBER OF CASUALTIES IN DAYLIGHT ACCIDENTS? </h1>"
   ]
  },
  {
   "cell_type": "code",
   "execution_count": 26,
   "id": "b8453299-3529-4687-a8b0-f12719b3aa91",
   "metadata": {},
   "outputs": [
    {
     "data": {
      "text/plain": [
       "DayOfWeek\n",
       "Saturday     43164\n",
       "Wednesday    40037\n",
       "Friday       39822\n",
       "Thursday     39641\n",
       "Tuesday      38714\n",
       "Sunday       35065\n",
       "Monday       28564\n",
       "Name: count, dtype: int64"
      ]
     },
     "execution_count": 26,
     "metadata": {},
     "output_type": "execute_result"
    }
   ],
   "source": [
    "uk_accident['DayOfWeek'] = pd.to_datetime(uk_accident['Accident Date'], errors='coerce').dt.day_name()\n",
    "uk_accident['DayOfWeek'].value_counts()"
   ]
  },
  {
   "cell_type": "markdown",
   "id": "628607cb-c5d3-4adb-9b4e-ba22dc6f10cd",
   "metadata": {},
   "source": [
    "<h1> INSIGHT #4 </h1>\n",
    "\n",
    "<h3> MOST ACCIDENTS HAPPENED ON SATURDAYS, WHILE MONDAYS HAD THE FEWEST REPORTED ACCIDENT.  </h3>"
   ]
  },
  {
   "cell_type": "markdown",
   "id": "0e13c77f-9593-41ef-b37a-bcac3ba90000",
   "metadata": {},
   "source": [
    "<hr>"
   ]
  },
  {
   "cell_type": "markdown",
   "id": "4d17b1ef-7299-4847-a0b7-d85b6b25aecb",
   "metadata": {},
   "source": [
    "<h1> 5. WHICH VEHICLE TYPE HAS THE HIGHEST AVERAGE CASUALTIES? </h1>"
   ]
  },
  {
   "cell_type": "code",
   "execution_count": 27,
   "id": "d201eefb-9a23-44b9-b455-5a5cafe90467",
   "metadata": {},
   "outputs": [],
   "source": [
    "avg_casualties_vehicle = uk_accident.groupby('Vehicle_Type')['Number_of_Casualties'].mean()"
   ]
  },
  {
   "cell_type": "code",
   "execution_count": 28,
   "id": "2ef1c291-da54-4345-bb48-85e195d9fc4a",
   "metadata": {},
   "outputs": [
    {
     "data": {
      "text/plain": [
       "Vehicle_Type\n",
       "Agricultural vehicle                     1.342065\n",
       "Bus or coach (17 or more pass seats)     1.349216\n",
       "Car                                      1.358841\n",
       "Data missing or out of range             1.500000\n",
       "Goods 7.5 tonnes mgw and over            1.351881\n",
       "Goods over 3.5t. and under 7.5t          1.362861\n",
       "Minibus (8 - 16 passenger seats)         1.345648\n",
       "Motorcycle 125cc and under               1.332635\n",
       "Motorcycle 50cc and under                1.337235\n",
       "Motorcycle over 125cc and up to 500cc    1.343521\n",
       "Motorcycle over 500cc                    1.359434\n",
       "Other vehicle                            1.340075\n",
       "Pedal cycle                              1.370558\n",
       "Ridden horse                             1.250000\n",
       "Taxi/Private hire car                    1.368663\n",
       "Van / Goods 3.5 tonnes mgw or under      1.354537\n",
       "Name: Number_of_Casualties, dtype: float64"
      ]
     },
     "execution_count": 28,
     "metadata": {},
     "output_type": "execute_result"
    }
   ],
   "source": [
    "avg_casualties_vehicle"
   ]
  },
  {
   "cell_type": "markdown",
   "id": "6114a258-613a-47e1-b6a0-73e145614ddb",
   "metadata": {},
   "source": [
    "<h1> INSIGHT #5  </h1>\n",
    "\n",
    "<h3> DATA MISSING OR OUT OF RANGE TYPE OF VEHICLE HAS THE HIGHEST AVERAGE CASUALTIES. </h3>"
   ]
  },
  {
   "cell_type": "markdown",
   "id": "bb412e2b-505b-4961-914f-355f21950c05",
   "metadata": {},
   "source": [
    "<hr>"
   ]
  },
  {
   "cell_type": "markdown",
   "id": "15aabbed-213c-43d3-adc1-90c905a1bc3e",
   "metadata": {},
   "source": [
    "<h1> 6. WHICH YEAR RECORDED THE MOST ACCIDENT? </h1>"
   ]
  },
  {
   "cell_type": "code",
   "execution_count": 29,
   "id": "56c309fc-5fdc-4d74-8a9c-075cd39f8320",
   "metadata": {},
   "outputs": [
    {
     "data": {
      "text/plain": [
       "Year\n",
       "2019.0    71867\n",
       "2020.0    70163\n",
       "2021.0    66172\n",
       "2022.0    56805\n",
       "Name: count, dtype: int64"
      ]
     },
     "execution_count": 29,
     "metadata": {},
     "output_type": "execute_result"
    }
   ],
   "source": [
    "uk_accident['Year'] = pd.to_datetime(uk_accident['Accident Date'], errors='coerce').dt.year\n",
    "uk_accident['Year'].value_counts()"
   ]
  },
  {
   "cell_type": "markdown",
   "id": "54636790-464c-4a09-8e84-37cc0c4eb208",
   "metadata": {},
   "source": [
    "<h1> INSIGHT #6 </h1>\n",
    "\n",
    "<h3> 2019 HAS THE MOST RECORDED ACCIDENT WITH A 71,867 RECORDS. </h3>"
   ]
  },
  {
   "cell_type": "markdown",
   "id": "b2cc6892-b83f-4c4d-b54f-1fcb54a1c1a0",
   "metadata": {},
   "source": [
    "<hr>"
   ]
  },
  {
   "cell_type": "markdown",
   "id": "e76b2145-855d-48e2-8ce4-3fa74aae0def",
   "metadata": {},
   "source": [
    "<h1> 7.  WHICH DISTRICT HAS THE HIGHEST AVERAGE CASUALTIES?  </h1>"
   ]
  },
  {
   "cell_type": "code",
   "execution_count": 30,
   "id": "e99dd5fa-e200-4b43-b9a4-de4af8e2ad94",
   "metadata": {},
   "outputs": [
    {
     "data": {
      "text/plain": [
       "District Area\n",
       "Aberdeen City    1.139834\n",
       "Aberdeenshire    1.310363\n",
       "Adur             1.319871\n",
       "Allerdale        1.474291\n",
       "Alnwick          1.512931\n",
       "                   ...   \n",
       "Wychavon         1.427627\n",
       "Wycombe          1.412377\n",
       "Wyre             1.378029\n",
       "Wyre Forest      1.382869\n",
       "York             1.293094\n",
       "Name: Number_of_Casualties, Length: 422, dtype: float64"
      ]
     },
     "execution_count": 30,
     "metadata": {},
     "output_type": "execute_result"
    }
   ],
   "source": [
    "district_avg_casualties = uk_accident.groupby('District Area')['Number_of_Casualties'].mean()\n",
    "district_avg_casualties"
   ]
  },
  {
   "cell_type": "markdown",
   "id": "3a77f323-2748-48ba-baa3-633cfff4d87e",
   "metadata": {},
   "source": [
    "<h1> INSIGHT#7 </h1>\n",
    "\n",
    "\n",
    "<h3> ALNWICK EXPERIENCE THE MOST SEVERE ACCIDENTS ON AVERAGE. </h3>"
   ]
  },
  {
   "cell_type": "markdown",
   "id": "c2ddb87c-1b3c-49ad-8586-5e48504da872",
   "metadata": {},
   "source": [
    "<hr>"
   ]
  },
  {
   "cell_type": "markdown",
   "id": "c7d32dd3-5954-4f56-997b-c53542f1b596",
   "metadata": {},
   "source": [
    "<h1> 8. WHICH DISTRICT HAS THE HIGHEST AVERAGE VEHICLES INVOLVED?</h1>"
   ]
  },
  {
   "cell_type": "code",
   "execution_count": 31,
   "id": "0ad7f47d-4e78-4e31-9e73-c84e86b90fbe",
   "metadata": {},
   "outputs": [
    {
     "data": {
      "text/plain": [
       "District Area\n",
       "Aberdeen City    1.637188\n",
       "Aberdeenshire    1.553368\n",
       "Adur             1.969305\n",
       "Allerdale        1.782801\n",
       "Alnwick          1.646552\n",
       "                   ...   \n",
       "Wychavon         1.828068\n",
       "Wycombe          1.866397\n",
       "Wyre             1.860258\n",
       "Wyre Forest      1.789474\n",
       "York             1.856089\n",
       "Name: Number_of_Vehicles, Length: 422, dtype: float64"
      ]
     },
     "execution_count": 31,
     "metadata": {},
     "output_type": "execute_result"
    }
   ],
   "source": [
    "district_avg_vehicles = uk_accident.groupby('District Area')['Number_of_Vehicles'].mean()\n",
    "district_avg_vehicles"
   ]
  },
  {
   "cell_type": "markdown",
   "id": "f69eac24-2fea-450e-8076-a925b62fe926",
   "metadata": {},
   "source": [
    "<h1> INSIGHT #8 </h1>\n",
    "\n",
    "<h3> BASED ON THE DATA, ADUR HAVE MULTI-VEHICLE ACCIDENTS. </h3>"
   ]
  },
  {
   "cell_type": "markdown",
   "id": "dec10c48-531a-4878-97da-ea49f96195f8",
   "metadata": {},
   "source": [
    "<hr>"
   ]
  },
  {
   "cell_type": "markdown",
   "id": "811d183d-a10d-4aea-a820-bc0f40c49dd3",
   "metadata": {},
   "source": [
    "<h1> 9. IS THERE A RELATIONSHIP BETWEEN NUMBER OF VEHICLES AND NUMBER OF CASUALTIES?   </h1>"
   ]
  },
  {
   "cell_type": "code",
   "execution_count": 32,
   "id": "e2e7f1d9-c3e4-41c6-90cd-69c8dce394c6",
   "metadata": {},
   "outputs": [
    {
     "data": {
      "text/plain": [
       "np.float64(0.23)"
      ]
     },
     "execution_count": 32,
     "metadata": {},
     "output_type": "execute_result"
    }
   ],
   "source": [
    "vehicles_casualties_corr = uk_accident['Number_of_Vehicles'].corr(uk_accident['Number_of_Casualties'])\n",
    "np.round(vehicles_casualties_corr,2)"
   ]
  },
  {
   "cell_type": "markdown",
   "id": "c1a1c612-d2b6-4637-b0c3-7b7a185dad42",
   "metadata": {},
   "source": [
    "<h1> INSIGHT #9 </h1>\n",
    "\n",
    "<h3> IT'S POSITIVE VALUE MEANS MORE VEHICLES SLIGHTLY INCREASE CASUALTIES </h3>"
   ]
  },
  {
   "cell_type": "markdown",
   "id": "12625b08-2b6a-45d9-8e5e-2c6337134359",
   "metadata": {},
   "source": [
    "<hr>"
   ]
  },
  {
   "cell_type": "markdown",
   "id": "ccd1f369-f783-40ec-8551-8b5b1b442418",
   "metadata": {},
   "source": [
    "<h1> 10. WHAT IS THE MAXIMUM NUMBER OF VEHICLES IN THE ENTIRE DATASET? </h1>"
   ]
  },
  {
   "cell_type": "code",
   "execution_count": 33,
   "id": "bdce9d5a-65c2-4328-8272-dd903dd46fee",
   "metadata": {},
   "outputs": [
    {
     "data": {
      "text/plain": [
       "np.int64(32)"
      ]
     },
     "execution_count": 33,
     "metadata": {},
     "output_type": "execute_result"
    }
   ],
   "source": [
    "max_vehicles_overall = uk_accident['Number_of_Vehicles'].max()\n",
    "max_vehicles_overall"
   ]
  },
  {
   "cell_type": "markdown",
   "id": "c1315aa9-b72f-4373-b3b4-1c5a96a9761d",
   "metadata": {},
   "source": [
    "<h1> INSIGHT #10 </h1> \n",
    "\n",
    "<h3> THE MAXIMUM NUMBER OF VEHICLES RECORDED IN A SINGLE ACCIDENT IS 32. </h3>"
   ]
  },
  {
   "cell_type": "markdown",
   "id": "284aa0d2-a437-4473-890d-300b54cd1c39",
   "metadata": {},
   "source": [
    "<hr>"
   ]
  },
  {
   "cell_type": "markdown",
   "id": "24b992ee-615b-452c-8447-cdd05a663cfd",
   "metadata": {},
   "source": [
    "<h1> 11. WHICH ROAD SURFACE CONDITION HAS THE HIGHEST AVERAGE CASUALTIES? </h1>"
   ]
  },
  {
   "cell_type": "code",
   "execution_count": 34,
   "id": "b0a4d675-e800-4b01-b9b7-89e2d13d8b3e",
   "metadata": {},
   "outputs": [
    {
     "data": {
      "text/plain": [
       "Road_Surface_Conditions\n",
       "Dry                     1.334545\n",
       "Flood over 3cm. deep    1.495575\n",
       "Frost or ice            1.348815\n",
       "Snow                    1.359593\n",
       "Wet or damp             1.411064\n",
       "Name: Number_of_Casualties, dtype: float64"
      ]
     },
     "execution_count": 34,
     "metadata": {},
     "output_type": "execute_result"
    }
   ],
   "source": [
    "road_avg_casualties = uk_accident.groupby('Road_Surface_Conditions')['Number_of_Casualties'].mean()\n",
    "road_avg_casualties"
   ]
  },
  {
   "cell_type": "markdown",
   "id": "3963c752-e991-4d3c-8605-36c0af82a499",
   "metadata": {},
   "source": [
    "<h1> INSIGHT#11 </h1>\n",
    "\n",
    "<h3> THE FLOODED ROADS HAVE THE HIGHEST AVERAGE CASUALTIES COMPARED TO OTHER SURFACE CONDITIONS. </h3>"
   ]
  },
  {
   "cell_type": "markdown",
   "id": "421c9beb-b6cb-4585-a5b8-8e6d811b226f",
   "metadata": {},
   "source": [
    "<hr>"
   ]
  },
  {
   "cell_type": "markdown",
   "id": "3ab6495d-78c6-4c4a-9394-63d9ae806564",
   "metadata": {},
   "source": [
    "<h1> 12. WHICH MONTH RECORDED THE MOST ACCIDENTS? </h1>"
   ]
  },
  {
   "cell_type": "code",
   "execution_count": 35,
   "id": "48e9ea8b-56f0-4bd0-8e51-1ef275b32258",
   "metadata": {},
   "outputs": [
    {
     "data": {
      "text/plain": [
       "Month\n",
       "11.0    24240\n",
       "12.0    24156\n",
       "10.0    23962\n",
       "7.0     22939\n",
       "9.0     22558\n",
       "2.0     22264\n",
       "6.0     22196\n",
       "3.0     21824\n",
       "5.0     21723\n",
       "8.0     21106\n",
       "4.0     19787\n",
       "1.0     18252\n",
       "Name: count, dtype: int64"
      ]
     },
     "execution_count": 35,
     "metadata": {},
     "output_type": "execute_result"
    }
   ],
   "source": [
    "uk_accident['Month'] = uk_accident['Accident Date'].dt.month\n",
    "uk_accident['Month'].value_counts()"
   ]
  },
  {
   "cell_type": "markdown",
   "id": "630fbfd6-91c1-4449-8f2d-eab0b19d5c9a",
   "metadata": {},
   "source": [
    "<h1> INSIGHT#12 </h1>\n",
    "\n",
    "<h3> NOVEMBER SHOWS WHEN ACCIDENTS ARE MORE FREQUENT, POSSIBLY DUE TO SEASONAL EFFECTS. </h3>"
   ]
  },
  {
   "cell_type": "markdown",
   "id": "34e0ee12-cc0c-4cf5-975a-1b00cef40477",
   "metadata": {},
   "source": [
    "<hr>"
   ]
  },
  {
   "cell_type": "markdown",
   "id": "a523ca40-bac6-46be-9cdb-b64adba6cee7",
   "metadata": {},
   "source": [
    "<h1> 13. WHICH DISTRICT HAS THE MOST FATAL ACCIDENTS? </h1>"
   ]
  },
  {
   "cell_type": "code",
   "execution_count": 37,
   "id": "5658a82c-bc5f-4de9-86b6-b5ea1f335e93",
   "metadata": {},
   "outputs": [
    {
     "data": {
      "text/plain": [
       "District Area\n",
       "Birmingham                  105\n",
       "Leeds                        93\n",
       "Highland                     88\n",
       "East Riding of Yorkshire     85\n",
       "Bradford                     71\n",
       "                           ... \n",
       "Orkney Islands                2\n",
       "Havant                        2\n",
       "Stevenage                     1\n",
       "Clackmannanshire              1\n",
       "Harlow                        1\n",
       "Name: count, Length: 422, dtype: int64"
      ]
     },
     "execution_count": 37,
     "metadata": {},
     "output_type": "execute_result"
    }
   ],
   "source": [
    "uk_accident[uk_accident['Accident_Severity'] == 'Fatal']['District Area'].value_counts()"
   ]
  },
  {
   "cell_type": "markdown",
   "id": "abc753fa-5d1b-4cd3-a163-7d5abb788294",
   "metadata": {},
   "source": [
    "<h1> INSIGHT#13 </h1> \n",
    "\n",
    "<h3> BIRMINGHAM HAS THE HIGHEST NUMBER OF FATAL ACCIDENTS SHOWING IT IS THE MOST CRITICAL AREA FOR ROAD SAFETY COMPARED TO OTHER DISTRICTS. </h3>"
   ]
  },
  {
   "cell_type": "markdown",
   "id": "0324c135-64a7-42a1-bd78-4d5e209d1b9a",
   "metadata": {},
   "source": [
    "<hr>"
   ]
  },
  {
   "cell_type": "markdown",
   "id": "7c7eb1ee-ae27-47ac-b36a-02ccb555decb",
   "metadata": {},
   "source": [
    "<h1> 14. IS THERE A RELATIONSHIP BETWEEN VEHICLES AND MONTH? </h1>"
   ]
  },
  {
   "cell_type": "code",
   "execution_count": 38,
   "id": "ba8cb8f9-c230-431e-8d3c-20ffe57a4ede",
   "metadata": {},
   "outputs": [
    {
     "data": {
      "text/plain": [
       "np.float64(0.008613400083189825)"
      ]
     },
     "execution_count": 38,
     "metadata": {},
     "output_type": "execute_result"
    }
   ],
   "source": [
    "month_vehicle_corr = uk_accident['Month'].corr(uk_accident['Number_of_Vehicles'])\n",
    "month_vehicle_corr"
   ]
  },
  {
   "cell_type": "markdown",
   "id": "b2a201d1-901e-4e99-b1a7-6705c22cc981",
   "metadata": {},
   "source": [
    "<h1> INSIGHT#14 </h1>\n",
    "\n",
    "<h3> THE RESULT IS CLOSE TO ZERO, SO VEHICLES AND CASUALTIES HAVE ALMOST NO RELATIONSHIP. </h3>"
   ]
  },
  {
   "cell_type": "markdown",
   "id": "18fceba3-55a5-4d43-8d1c-41ec8cfb77c3",
   "metadata": {},
   "source": [
    "<hr>"
   ]
  },
  {
   "cell_type": "markdown",
   "id": "7235a97c-d561-4b30-bc78-a4c63856a521",
   "metadata": {},
   "source": [
    "<h1> 15. WHAT IS THE AVERAGE NUMBER OF CASUALTIES IN URBAN VS RURAL AREAS? </h1>"
   ]
  },
  {
   "cell_type": "code",
   "execution_count": 40,
   "id": "e69a095c-239a-4df0-bfdd-52e037ebfaea",
   "metadata": {},
   "outputs": [
    {
     "data": {
      "text/plain": [
       "Urban_or_Rural_Area\n",
       "Rural          1.479204\n",
       "Unallocated    1.181818\n",
       "Urban          1.287807\n",
       "Name: Number_of_Casualties, dtype: float64"
      ]
     },
     "execution_count": 40,
     "metadata": {},
     "output_type": "execute_result"
    }
   ],
   "source": [
    "uk_accident.groupby('Urban_or_Rural_Area')['Number_of_Casualties'].mean()"
   ]
  },
  {
   "cell_type": "markdown",
   "id": "d0cdc33e-dc93-4f90-bf59-c52126c81b38",
   "metadata": {},
   "source": [
    "<h1> INSIGHT #15 </h1>\n",
    "\n",
    "<h3> RURAL AREAS HAVE THE HIGHEST AVERAGE CASUALTIES MEANS ACCIDENTS IN RURAL LOCATIONS TEND TO BE MORE SEVERE THAN URBAN OR UNALLOCATED AREAS. </h3>"
   ]
  },
  {
   "cell_type": "markdown",
   "id": "a13e5ce6-241f-42cb-96ec-c757ce37a07c",
   "metadata": {},
   "source": [
    "<hr>"
   ]
  },
  {
   "cell_type": "markdown",
   "id": "dfb084b6-4e96-4fad-bb81-0b8abce59ce2",
   "metadata": {},
   "source": [
    "<h1> 16. WHAT IS THE AVERAGE NUMBER OF CASUALTIES IN URBAN DAYLIGHT ACCIDENTS? </h1>"
   ]
  },
  {
   "cell_type": "code",
   "execution_count": 42,
   "id": "53b932da-8d78-4a47-81c2-06858bd90e19",
   "metadata": {},
   "outputs": [
    {
     "data": {
      "text/plain": [
       "np.float64(1.2688250554889653)"
      ]
     },
     "execution_count": 42,
     "metadata": {},
     "output_type": "execute_result"
    }
   ],
   "source": [
    "uk_accident[(uk_accident['Urban_or_Rural_Area']=='Urban') & (uk_accident['Light_Conditions']=='Daylight')]['Number_of_Casualties'].mean()"
   ]
  },
  {
   "cell_type": "markdown",
   "id": "cf531820-699c-4470-9cf5-3590dbb0006a",
   "metadata": {},
   "source": [
    "<h1> INSIGHT #16  </h1>\n",
    "\n",
    "<h3> URBAN DAYLIGHT ACCIDENTS USUALLY HAVE ABOUT 1 TO 2 CASUALTIES. </h3>"
   ]
  },
  {
   "cell_type": "markdown",
   "id": "c70ed811-c17b-43cc-a2ff-0408b8d64242",
   "metadata": {},
   "source": [
    "<hr>"
   ]
  },
  {
   "cell_type": "markdown",
   "id": "27dffe6d-0019-42b8-9475-c6fe4547d847",
   "metadata": {},
   "source": [
    "<h1> 17. WHICH DISTRICT HAS THE FEWEST RECORDED ACCIDENTS? </h1>"
   ]
  },
  {
   "cell_type": "code",
   "execution_count": 43,
   "id": "06d83381-de1d-4e6b-a8b6-dbfe4070203f",
   "metadata": {},
   "outputs": [
    {
     "data": {
      "text/plain": [
       "District Area\n",
       "Birmingham            13491\n",
       "Leeds                  8898\n",
       "Manchester             6720\n",
       "Bradford               6212\n",
       "Sheffield              5710\n",
       "                      ...  \n",
       "Berwick-upon-Tweed      153\n",
       "Teesdale                142\n",
       "Shetland Islands        133\n",
       "Orkney Islands          117\n",
       "Clackmannanshire         91\n",
       "Name: count, Length: 422, dtype: int64"
      ]
     },
     "execution_count": 43,
     "metadata": {},
     "output_type": "execute_result"
    }
   ],
   "source": [
    "uk_accident['District Area'].value_counts()"
   ]
  },
  {
   "cell_type": "markdown",
   "id": "033c04a3-908d-45aa-b322-7d5bacce6cc7",
   "metadata": {},
   "source": [
    "<h1> INSIGHT 17 </h1>\n",
    "\n",
    "<h3> CLACKMANNANSHIRE HAVE THE FEWEST ACCIDENTS DUE TO SMALLER POPULATION AND ROAD SIZE.</h3>"
   ]
  },
  {
   "cell_type": "markdown",
   "id": "92096f92-8554-46ee-aa08-f80398f449cd",
   "metadata": {},
   "source": [
    "<hr>"
   ]
  },
  {
   "cell_type": "markdown",
   "id": "bed5a1d6-44d4-4e2f-ad4a-83fbd12ddf03",
   "metadata": {},
   "source": [
    "<h1> 18. WHICH WEATHER CONDITION IS LEAST COMMON DURING ACCIDENTS?  </h1>"
   ]
  },
  {
   "cell_type": "code",
   "execution_count": 44,
   "id": "f4de40d5-0544-407b-99bf-7d0b6ad4298a",
   "metadata": {},
   "outputs": [
    {
     "data": {
      "text/plain": [
       "Weather_Conditions\n",
       "Fine no high winds       535013\n",
       "Raining no high winds     79696\n",
       "Other                     17150\n",
       "Raining + high winds       9615\n",
       "Fine + high winds          8554\n",
       "Snowing no high winds      6238\n",
       "Fog or mist                3528\n",
       "Snowing + high winds        885\n",
       "Name: count, dtype: int64"
      ]
     },
     "execution_count": 44,
     "metadata": {},
     "output_type": "execute_result"
    }
   ],
   "source": [
    "uk_accident['Weather_Conditions'].value_counts()"
   ]
  },
  {
   "cell_type": "markdown",
   "id": "c9bd3ad5-0010-43ef-ad09-b6ffdc73d098",
   "metadata": {},
   "source": [
    "<h1> INSIGHTS #18 </h1>\n",
    "\n",
    "<h3> SNOWING WITH HIGH WINDS HAS THE FEWEST RECORDED ACCIDENTS 885, SHOWING THAT THIS WEATHER CONDITION IS RARE IN THE DATASET. </h3>"
   ]
  },
  {
   "cell_type": "markdown",
   "id": "03b7c772-c3d8-4617-a37e-a43d23687144",
   "metadata": {},
   "source": [
    "<hr>"
   ]
  },
  {
   "cell_type": "markdown",
   "id": "7fce9a3e-41cf-4bf4-983c-fdeb816a8ac4",
   "metadata": {},
   "source": [
    "<h1> 19. WHAT IS THE CORRELATION BETWEEN ACCIDENT SEVERITY AND NUMBER OF VEHICLES? </h1>"
   ]
  },
  {
   "cell_type": "code",
   "execution_count": 45,
   "id": "aac5dbda-eedf-440f-a24c-32c5a9274ac9",
   "metadata": {},
   "outputs": [
    {
     "data": {
      "text/plain": [
       "np.float64(0.07532400982810716)"
      ]
     },
     "execution_count": 45,
     "metadata": {},
     "output_type": "execute_result"
    }
   ],
   "source": [
    "uk_accident['Accident_Severity'].cat.codes.corr(uk_accident['Number_of_Vehicles'])"
   ]
  },
  {
   "cell_type": "markdown",
   "id": "df476d4f-c063-42df-96bc-e0107134977b",
   "metadata": {},
   "source": [
    "<h1> INSIGHT #19 </h1> \n",
    "\n",
    "<h3> WITH A LOW CORRELATION 0.07, VEHICLE COUNT DOES NOT STRONGLY IMPACT HOW SEVERE AN ACCIDENT IS. </h3>"
   ]
  },
  {
   "cell_type": "markdown",
   "id": "a79cc104-d1d9-44ec-8a73-e1af80c4da07",
   "metadata": {},
   "source": [
    "<hr>"
   ]
  },
  {
   "cell_type": "markdown",
   "id": "50d791f6-814e-471b-bbd9-d0706e42dba4",
   "metadata": {},
   "source": [
    "<h1> 20. WHICH DISTRICT RECORDS THE HIGHEST NUMBER OF SLIGHT ACCIDENTS? </h1>"
   ]
  },
  {
   "cell_type": "code",
   "execution_count": 46,
   "id": "fe8fa2cf-4440-41e5-b72e-3ecea9e53fbf",
   "metadata": {},
   "outputs": [
    {
     "data": {
      "text/plain": [
       "District Area  Accident_Severity\n",
       "Aberdeen City  Slight               1072\n",
       "               Serious               239\n",
       "               Fatal                  12\n",
       "Aberdeenshire  Slight               1401\n",
       "               Serious               463\n",
       "                                    ... \n",
       "Wyre Forest    Serious               132\n",
       "               Fatal                  22\n",
       "York           Slight               1621\n",
       "               Serious               255\n",
       "               Fatal                  21\n",
       "Name: count, Length: 1266, dtype: int64"
      ]
     },
     "execution_count": 46,
     "metadata": {},
     "output_type": "execute_result"
    }
   ],
   "source": [
    "uk_accident.groupby('District Area')['Accident_Severity'].value_counts()"
   ]
  },
  {
   "cell_type": "markdown",
   "id": "08bbe5fa-b804-4ea6-b4df-9e3eb0f618fb",
   "metadata": {},
   "source": [
    "<h1> INSIGHT #20 </h1>\n",
    "\n",
    "<h3> YORK RECORDED THE HIGHEST SLIGHT ACCIDENTS 1621, SHOWING THAT MINOR COLLISIONS ARE MORE FREQUENT IN THIS AREA COMPARED TO OTHERS. </h3>"
   ]
  },
  {
   "cell_type": "markdown",
   "id": "926e6cef-8c49-4a26-86e3-d43c95e277c6",
   "metadata": {},
   "source": [
    "<hr>"
   ]
  },
  {
   "cell_type": "markdown",
   "id": "22f9d233-10d7-4666-815f-2845b082579a",
   "metadata": {},
   "source": [
    "<h1> 21. WHAT IS THE MINIMUM NUMBER OF CASUALTIES IN ACCIDENTS ON DRY ROAD?</h1>"
   ]
  },
  {
   "cell_type": "code",
   "execution_count": 52,
   "id": "6c7bcd47-942f-4d4e-8c0f-ee755f92896d",
   "metadata": {},
   "outputs": [
    {
     "data": {
      "text/plain": [
       "np.int64(1)"
      ]
     },
     "execution_count": 52,
     "metadata": {},
     "output_type": "execute_result"
    }
   ],
   "source": [
    "uk_accident[uk_accident['Road_Surface_Conditions'] == 'Dry']['Number_of_Casualties'].min()"
   ]
  },
  {
   "cell_type": "markdown",
   "id": "6038dcc8-3b0f-43f9-9889-2a43db91e4cf",
   "metadata": {},
   "source": [
    "<h1> INSIGHT #21 </h1> \n",
    "\n",
    "<h3> THE MINIMUM NUMBER OF CASUALTIES RECORDED ON DRY ROADS IS 1.</h3>"
   ]
  },
  {
   "cell_type": "markdown",
   "id": "661827ba-c74d-4820-bdbf-2ff6c02a4e05",
   "metadata": {},
   "source": [
    "<hr>"
   ]
  },
  {
   "cell_type": "markdown",
   "id": "bbdfa93e-e839-432f-acda-cf6120f6ba0e",
   "metadata": {},
   "source": [
    "<h1> 22. WHAT IS THE COUNT OF EACH VEHICLE IN RURAL AREAS? </h1>"
   ]
  },
  {
   "cell_type": "code",
   "execution_count": 53,
   "id": "dd03ed35-4053-4e7e-8812-aeeebc44d2d3",
   "metadata": {},
   "outputs": [
    {
     "data": {
      "text/plain": [
       "Vehicle_Type\n",
       "Car                                      181922\n",
       "Van / Goods 3.5 tonnes mgw or under       12156\n",
       "Bus or coach (17 or more pass seats)       9025\n",
       "Motorcycle over 500cc                      8957\n",
       "Goods 7.5 tonnes mgw and over              6156\n",
       "Motorcycle 125cc and under                 5023\n",
       "Taxi/Private hire car                      4677\n",
       "Motorcycle 50cc and under                  2710\n",
       "Motorcycle over 125cc and up to 500cc      2674\n",
       "Goods over 3.5t. and under 7.5t            2232\n",
       "Other vehicle                              1994\n",
       "Minibus (8 - 16 passenger seats)            718\n",
       "Agricultural vehicle                        675\n",
       "Pedal cycle                                  70\n",
       "Ridden horse                                  1\n",
       "Data missing or out of range                  0\n",
       "Name: count, dtype: int64"
      ]
     },
     "execution_count": 53,
     "metadata": {},
     "output_type": "execute_result"
    }
   ],
   "source": [
    "uk_accident[uk_accident['Urban_or_Rural_Area'] == 'Rural']['Vehicle_Type'].value_counts()"
   ]
  },
  {
   "cell_type": "markdown",
   "id": "909750ac-fdd7-4e07-a16c-3ede4959a80e",
   "metadata": {},
   "source": [
    "<h1> INSIGHT #22 </h1> \n",
    "\n",
    "<h3> CARS MAKE UP THE MAJORITY OF RURAL ACCIDENTS, WHILE VEHICLES LIKE HORSES OR BICYCLES ARE RARELY INVOLVED. </h3>"
   ]
  },
  {
   "cell_type": "markdown",
   "id": "9d7bbab8-172a-4e2a-8e43-3f57d98eaec7",
   "metadata": {},
   "source": [
    "<hr>"
   ]
  },
  {
   "cell_type": "markdown",
   "id": "db7b7add-e319-4618-9c4d-25c6a915581c",
   "metadata": {},
   "source": [
    "<h1> 23. IN THE WYRE DISTRICT, WHICH ROAD TYPE HAS THE LEAST ROAD ACCIDENT?  </h1>"
   ]
  },
  {
   "cell_type": "code",
   "execution_count": 55,
   "id": "1ebfd3bb-30ee-4bb5-8915-73b4f86c7e06",
   "metadata": {},
   "outputs": [
    {
     "data": {
      "text/plain": [
       "Road_Type\n",
       "Single carriageway    1004\n",
       "Roundabout              94\n",
       "Dual carriageway        93\n",
       "One way street          45\n",
       "Slip road                2\n",
       "Name: count, dtype: int64"
      ]
     },
     "execution_count": 55,
     "metadata": {},
     "output_type": "execute_result"
    }
   ],
   "source": [
    "uk_accident[uk_accident[\"District Area\"]==\"Wyre\"][\"Road_Type\"].value_counts()"
   ]
  },
  {
   "cell_type": "markdown",
   "id": "666bf929-26b7-4ab2-abd0-ccb01b21c436",
   "metadata": {},
   "source": [
    "<h1> INSIGHT #23 </h1> \n",
    "\n",
    "<h3> SLIP ROADS IN WYRE HAVE THE LEAST ACCIDENTS 2, SHOWING THEY ARE RARELY INVOLVED IN CRASHES. </h3>"
   ]
  },
  {
   "cell_type": "markdown",
   "id": "9022f6a5-291a-42eb-9d88-1b8462da3f81",
   "metadata": {},
   "source": [
    "<hr>"
   ]
  },
  {
   "cell_type": "markdown",
   "id": "7ad11ffb-6387-406e-972c-f340345df6aa",
   "metadata": {},
   "source": [
    "<h1> 24. WHAT IS THE LOWEST CASUALTIES BY ROAD TYPE? </h1>"
   ]
  },
  {
   "cell_type": "code",
   "execution_count": 59,
   "id": "ee1347c1-1376-46a6-a849-368dea8a2433",
   "metadata": {},
   "outputs": [
    {
     "data": {
      "text/plain": [
       "Road_Type\n",
       "Dual carriageway      47\n",
       "One way street        15\n",
       "Roundabout            19\n",
       "Single carriageway    62\n",
       "Slip road             68\n",
       "Name: Number_of_Casualties, dtype: int64"
      ]
     },
     "execution_count": 59,
     "metadata": {},
     "output_type": "execute_result"
    }
   ],
   "source": [
    "uk_accident.groupby('Road_Type')['Number_of_Casualties'].max()"
   ]
  },
  {
   "cell_type": "markdown",
   "id": "40fcbc47-ef62-4a5a-9c10-eb9f008ca22e",
   "metadata": {},
   "source": [
    "<h1> INSIGHT #24 </h1>\n",
    "\n",
    "<h3> ONE-WAY STREETS HAVE THE LOWEST MAXIMUM CASUALTIES 15, SHOWING THEY ARE SAFER COMPARED TO OTHER ROAD TYPES.  </h3>"
   ]
  },
  {
   "cell_type": "markdown",
   "id": "bdfe8f3d-3113-4057-a6fa-dabc56993cb9",
   "metadata": {},
   "source": [
    "<hr>"
   ]
  },
  {
   "cell_type": "markdown",
   "id": "f8db910b-35f3-4019-96b6-9d5464c8b542",
   "metadata": {},
   "source": [
    "<h1> 25. WHAT IS THE MEDIAN NUMBERS OF CASUALTIES IN RURAL AREAS? </h1>"
   ]
  },
  {
   "cell_type": "code",
   "execution_count": 61,
   "id": "e152aa34-040d-4c61-b82c-9982f79b1b20",
   "metadata": {},
   "outputs": [
    {
     "data": {
      "text/plain": [
       "np.float64(1.0)"
      ]
     },
     "execution_count": 61,
     "metadata": {},
     "output_type": "execute_result"
    }
   ],
   "source": [
    "uk_accident[uk_accident['Urban_or_Rural_Area'] == 'Rural']['Number_of_Casualties'].median()"
   ]
  },
  {
   "cell_type": "markdown",
   "id": "1921aa72-de89-4405-bcfa-785950d14fda",
   "metadata": {},
   "source": [
    "<h1> INSIGHT #25 </h1>\n",
    "\n",
    "<h3> THE MEDIAN NUMBER OF CASUALTIES IN RURAL AREAS IS 1. </h3>"
   ]
  },
  {
   "cell_type": "markdown",
   "id": "282972ae-70ca-4b68-aa8a-7b08bb6012ff",
   "metadata": {},
   "source": [
    "<hr> "
   ]
  },
  {
   "cell_type": "markdown",
   "id": "0cc9dad8-c0dd-4b7d-b4e9-4921c3abb59d",
   "metadata": {},
   "source": [
    "<h1> 26. WHAT DATE HAVE THE FEWEST AMOUNT OF ACCIDENTS IN A SINGLE DAY? </h1>"
   ]
  },
  {
   "cell_type": "code",
   "execution_count": 62,
   "id": "cf02a420-d14a-47eb-9665-0899ad524df3",
   "metadata": {},
   "outputs": [
    {
     "data": {
      "text/plain": [
       "Accident Date\n",
       "2021-02-11    685\n",
       "2021-10-06    680\n",
       "2019-12-06    678\n",
       "2019-02-01    676\n",
       "2021-12-04    667\n",
       "             ... \n",
       "2022-01-09    236\n",
       "2022-12-02    236\n",
       "2022-04-05    231\n",
       "2022-02-07    213\n",
       "2022-01-10    123\n",
       "Name: count, Length: 576, dtype: int64"
      ]
     },
     "execution_count": 62,
     "metadata": {},
     "output_type": "execute_result"
    }
   ],
   "source": [
    "uk_accident['Accident Date'].value_counts()"
   ]
  },
  {
   "cell_type": "markdown",
   "id": "6e48b2b9-e6c2-4bc7-9303-efbf593af15c",
   "metadata": {},
   "source": [
    "<h1> INSIGHT #26  </h1> \n",
    "\n",
    "<h3> 2022-01-10 HAD THE FEWEST ACCIDENTS 123, SHOWING IT WAS AN UNUSUALLY SAFE DAY COMPARED TO OTHER DATES. </h3>"
   ]
  },
  {
   "cell_type": "markdown",
   "id": "831b260d-00d8-4c32-af11-4824e94716f7",
   "metadata": {},
   "source": [
    "<hr>"
   ]
  },
  {
   "cell_type": "code",
   "execution_count": null,
   "id": "d9da9835-7f67-4461-be29-529c21f09ace",
   "metadata": {},
   "outputs": [],
   "source": []
  }
 ],
 "metadata": {
  "kernelspec": {
   "display_name": "Python 3 (ipykernel)",
   "language": "python",
   "name": "python3"
  },
  "language_info": {
   "codemirror_mode": {
    "name": "ipython",
    "version": 3
   },
   "file_extension": ".py",
   "mimetype": "text/x-python",
   "name": "python",
   "nbconvert_exporter": "python",
   "pygments_lexer": "ipython3",
   "version": "3.11.1"
  }
 },
 "nbformat": 4,
 "nbformat_minor": 5
}
